{
  "nbformat": 4,
  "nbformat_minor": 0,
  "metadata": {
    "colab": {
      "name": "deepsense_generative_takehome_test.ipynb",
      "provenance": [],
      "collapsed_sections": [],
      "include_colab_link": true
    },
    "kernelspec": {
      "display_name": "Python 3",
      "language": "python",
      "name": "python3"
    },
    "language_info": {
      "codemirror_mode": {
        "name": "ipython",
        "version": 3
      },
      "file_extension": ".py",
      "mimetype": "text/x-python",
      "name": "python",
      "nbconvert_exporter": "python",
      "pygments_lexer": "ipython3",
      "version": "3.6.9"
    }
  },
  "cells": [
    {
      "cell_type": "markdown",
      "metadata": {
        "id": "view-in-github",
        "colab_type": "text"
      },
      "source": [
        "<a href=\"https://colab.research.google.com/github/RomainCendre/DSTest/blob/main/deepsense_generative_takehome_test.ipynb\" target=\"_parent\"><img src=\"https://colab.research.google.com/assets/colab-badge.svg\" alt=\"Open In Colab\"/></a>"
      ]
    },
    {
      "cell_type": "markdown",
      "metadata": {
        "id": "1luJo4ucis4I"
      },
      "source": [
        "\n",
        "## Data modeling\n",
        "\n",
        "Given the following [data-set](https://gist.githubusercontent.com/alephd/e3899eaae0e7869e9c230f6a0fe944e5/raw/deab4f93a9c15224ac118d46533d9ea9700d206a/2019_data_science_test.json).\n",
        "\n",
        "### 1. Can you generate 10k rows of new data from the same distribution?\n",
        "\n",
        "You can use the code below to load the data.\n",
        "\n",
        "Please explain your approach. (Hints: you may exploit some techniques using neural networks)\n",
        "\n",
        "Please provide the code that generates the data in this notebook.\n",
        "\n"
      ]
    },
    {
      "cell_type": "code",
      "metadata": {
        "id": "CHpIhx2szC_6"
      },
      "source": [
        "### Answer"
      ],
      "execution_count": null,
      "outputs": []
    },
    {
      "cell_type": "code",
      "metadata": {
        "id": "hdzPqycPy9Zt"
      },
      "source": [
        ""
      ],
      "execution_count": 3,
      "outputs": []
    },
    {
      "cell_type": "markdown",
      "metadata": {
        "id": "b9gubZMdx1v-"
      },
      "source": [
        "\n",
        "### 2. How could prior-knowledge help you in this task?"
      ]
    },
    {
      "cell_type": "markdown",
      "metadata": {
        "id": "uiXq0Fnux09e"
      },
      "source": [
        ""
      ]
    },
    {
      "cell_type": "code",
      "metadata": {
        "id": "_-dj-5geJTnY"
      },
      "source": [
        "import requests\n",
        "import matplotlib.pyplot as plt\n",
        "import matplotlib.image as img\n",
        "import torch\n",
        "import sklearn as skl\n",
        "import numpy as np\n",
        "\n",
        "# Read the Gist\n",
        "res = requests.get(\"https://gist.githubusercontent.com/IdrissMg/695f423af0f0aaffd8d69bc403932c6b/raw/6f3192bbcc328f2aa53ae2faef0cefb825564ea9/data_science_test.json\")\n",
        "data = np.array(res.json())"
      ],
      "execution_count": 1,
      "outputs": []
    },
    {
      "cell_type": "code",
      "metadata": {
        "colab": {
          "base_uri": "https://localhost:8080/"
        },
        "id": "dCU3jKW5J2Iw",
        "outputId": "a1fbf72e-4566-4e86-f392-76d15bf8869c"
      },
      "source": [
        "# The data-set is properly loaded\n",
        "print(data[:10,:])"
      ],
      "execution_count": 2,
      "outputs": [
        {
          "output_type": "stream",
          "text": [
            "[[ 0.35550847 -0.16861307 -0.03649862  0.19952643 -0.11887184  0.29424839\n",
            "  -0.28051336]\n",
            " [ 0.4260113  -0.21258807 -0.01852221  0.22457905 -0.15877081  0.32463416\n",
            "  -0.37767599]\n",
            " [ 0.29133138 -0.1376825   0.0477822   0.36069595 -0.26262892  0.36821576\n",
            "  -0.22965423]\n",
            " [ 0.31290507 -0.15962714  0.05445522  0.33733013 -0.2346064   0.2984015\n",
            "  -0.20969495]\n",
            " [ 0.30500781 -0.13593187 -0.01060943  0.28193989 -0.23838613  0.33592651\n",
            "  -0.22018852]\n",
            " [ 0.31491301 -0.14003621  0.00660586  0.275029   -0.18690363  0.33443304\n",
            "  -0.27883085]\n",
            " [ 0.39339591 -0.13173083  0.0158673   0.18128972 -0.15204574  0.3052976\n",
            "  -0.34210036]\n",
            " [ 0.3136345  -0.15933352  0.00958527  0.28161228 -0.1882738   0.30471432\n",
            "  -0.2638125 ]\n",
            " [ 0.33660039 -0.17667822  0.0593603   0.31968113 -0.28692315  0.38236689\n",
            "  -0.26209681]\n",
            " [ 0.3190583  -0.13005376  0.02983905  0.16937195 -0.13130105  0.23831343\n",
            "  -0.27769289]]\n"
          ],
          "name": "stdout"
        }
      ]
    }
  ]
}